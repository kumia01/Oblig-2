{
 "cells": [
  {
   "cell_type": "markdown",
   "metadata": {},
   "source": [
    "# Imports and fetching data#"
   ]
  },
  {
   "cell_type": "code",
   "execution_count": 4,
   "metadata": {},
   "outputs": [],
   "source": [
    "#xgboost model\n",
    "import xgboost as xgb\n",
    "\n",
    "from sklearn.metrics import mean_squared_error\n",
    "\n",
    "#regex\n",
    "import re\n",
    "\n",
    "# pandas, numpy\n",
    "import numpy as np\n",
    "import pandas as pd\n",
    "import math\n",
    "\n",
    "#henter data fra csv\n",
    "df_test = pd.read_csv(\"../data/test_data.csv\")\n",
    "df_train = pd.read_csv(\"../data/train_data.csv\")"
   ]
  },
  {
   "cell_type": "markdown",
   "metadata": {},
   "source": [
    "# Data cleaning og funksjoner #"
   ]
  },
  {
   "cell_type": "code",
   "execution_count": 5,
   "metadata": {},
   "outputs": [
    {
     "name": "stdout",
     "output_type": "stream",
     "text": [
      "<class 'pandas.core.frame.DataFrame'>\n",
      "Int64Index: 180 entries, 0 to 1488\n",
      "Data columns (total 11 columns):\n",
      " #   Column       Non-Null Count  Dtype  \n",
      "---  ------       --------------  -----  \n",
      " 0   PassengerId  180 non-null    int64  \n",
      " 1   Survived     180 non-null    int64  \n",
      " 2   Pclass       180 non-null    int64  \n",
      " 3   Sex          180 non-null    int64  \n",
      " 4   SibSp        180 non-null    int64  \n",
      " 5   Parch        180 non-null    int64  \n",
      " 6   Ticket       180 non-null    int32  \n",
      " 7   Fare         180 non-null    float64\n",
      " 8   Cabin        180 non-null    int64  \n",
      " 9   Embarked     180 non-null    int64  \n",
      " 10  Age          180 non-null    int32  \n",
      "dtypes: float64(1), int32(2), int64(8)\n",
      "memory usage: 15.5 KB\n"
     ]
    }
   ],
   "source": [
    "\n",
    "# rydding av dataframe\n",
    "# dropper duplikasjon av rader i Train_data.csv\n",
    "df_train = df_train.drop_duplicates()\n",
    "df_train = df_train.drop_duplicates(subset=['Fare'])\n",
    "#gjør string og tall til nan og fjener det\n",
    "df_train[\"Ticket\"] = pd.to_numeric(df_train[\"Ticket\"], errors=\"coerce\")\n",
    "df_train[\"Fare\"] = pd.to_numeric(df_train[\"Fare\"], errors=\"coerce\")\n",
    "\n",
    "\n",
    "df_train = df_train[df_train[\"Age\"] > 0]\n",
    "df_train = df_train[df_train[\"Age\"] < 100]\n",
    "\n",
    "#gjør alle ticket til positive integer\n",
    "df_train[\"Ticket\"] = df_train[\"Ticket\"].apply(abs)\n",
    "df_train = df_train.dropna()\n",
    "\n",
    "df_train[\"Ticket\"] = df_train[\"Ticket\"].astype(int)\n",
    "df_train[\"Age\"] = df_train[\"Age\"].astype(int)\n",
    "\n",
    "\n",
    "df_train.describe()\n",
    "df_train.info()\n"
   ]
  },
  {
   "cell_type": "markdown",
   "metadata": {},
   "source": [
    "# Model creation"
   ]
  },
  {
   "cell_type": "code",
   "execution_count": 6,
   "metadata": {},
   "outputs": [
    {
     "data": {
      "text/plain": [
       "13.31204272366906"
      ]
     },
     "execution_count": 6,
     "metadata": {},
     "output_type": "execute_result"
    }
   ],
   "source": [
    "#instansierer en xgb model\n",
    "model = xgb.XGBRegressor()\n",
    "\n",
    "#data fra train\n",
    "x_train = df_train.drop([\"Age\"], axis=1)\n",
    "y_train = df_train[\"Age\"]\n",
    "\n",
    "#data fra test for å teste prediction\n",
    "x_test = df_test.drop([\"Age\"], axis=1)\n",
    "y_test = df_test[\"Age\"]\n",
    "\n",
    "#trener modellen med train_data\n",
    "model.fit(x_train, y_train)\n",
    "\n",
    "#predics age of test_data given parameter from test_data\n",
    "preds = model.predict(x_test)\n",
    "\n",
    "#means squared of error\n",
    "mse = mean_squared_error(preds, y_test)\n",
    "\n",
    "#gjør om til root mean squared of error\n",
    "rmse = math.sqrt(mse)\n",
    "\n",
    "#root mean squered of error\n",
    "rmse"
   ]
  }
 ],
 "metadata": {
  "kernelspec": {
   "display_name": "Python 3.8.13 ('intro-ai')",
   "language": "python",
   "name": "python3"
  },
  "language_info": {
   "codemirror_mode": {
    "name": "ipython",
    "version": 3
   },
   "file_extension": ".py",
   "mimetype": "text/x-python",
   "name": "python",
   "nbconvert_exporter": "python",
   "pygments_lexer": "ipython3",
   "version": "3.8.13"
  },
  "orig_nbformat": 4,
  "vscode": {
   "interpreter": {
    "hash": "c1925820a906368d408499b819e5c3ff9f54f0d8559346e26763c28c1e1e361d"
   }
  }
 },
 "nbformat": 4,
 "nbformat_minor": 2
}
