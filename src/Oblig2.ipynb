{
 "cells": [
  {
   "cell_type": "markdown",
   "metadata": {},
   "source": [
    "# Imports and fetching data#"
   ]
  },
  {
   "cell_type": "code",
   "execution_count": 19,
   "metadata": {},
   "outputs": [],
   "source": [
    "#xgboost model\n",
    "import xgboost as xgb\n",
    "from sklearn.metrics import mean_squared_error\n",
    "from sklearn.model_selection import train_test_split\n",
    "\n",
    "#regex\n",
    "import re\n",
    "\n",
    "# pandas + numpy\n",
    "import numpy as np\n",
    "import pandas as pd\n",
    "\n",
    "#storing and lading models\n",
    "import pickle\n",
    "\n",
    "#henter data fra csv\n",
    "df_test = pd.read_csv(\"../data/test_data.csv\")\n",
    "df_train = pd.read_csv(\"../data/train_data.csv\")"
   ]
  },
  {
   "cell_type": "markdown",
   "metadata": {},
   "source": [
    "# Data cleaning og funksjoner #"
   ]
  },
  {
   "cell_type": "code",
   "execution_count": 20,
   "metadata": {},
   "outputs": [],
   "source": [
    "\n",
    "#rydding av dataframe\n",
    "# dropper duplikasjon av rader i Train_data.csv\n",
    "df_train = df_train.drop_duplicates()\n",
    "df_train = df_train.drop_duplicates(subset=['Fare'])\n",
    "#gjør string og tall til nan og fjener det\n",
    "df_train[\"Ticket\"] = pd.to_numeric(df_train[\"Ticket\"], errors=\"coerce\")\n",
    "df_train[\"Fare\"] = pd.to_numeric(df_train[\"Fare\"], errors=\"coerce\")\n",
    "\n",
    "df_train = df_train[df_train[\"Age\"] > 0]\n",
    "df_train = df_train[df_train[\"Age\"] < 100]\n",
    "\n",
    "#gjør alle ticket til posetiv integer\n",
    "df_train[\"Ticket\"] = df_train[\"Ticket\"].apply(abs)\n",
    "\n",
    "df_train = df_train.dropna()\n",
    "\n",
    "\n",
    "\n"
   ]
  },
  {
   "cell_type": "markdown",
   "metadata": {},
   "source": [
    "# Model creation"
   ]
  },
  {
   "cell_type": "code",
   "execution_count": 21,
   "metadata": {},
   "outputs": [],
   "source": [
    "model = xgb.XGBRegressor()"
   ]
  }
 ],
 "metadata": {
  "kernelspec": {
   "display_name": "Python 3.8.13 ('intro-ai')",
   "language": "python",
   "name": "python3"
  },
  "language_info": {
   "codemirror_mode": {
    "name": "ipython",
    "version": 3
   },
   "file_extension": ".py",
   "mimetype": "text/x-python",
   "name": "python",
   "nbconvert_exporter": "python",
   "pygments_lexer": "ipython3",
   "version": "3.8.13"
  },
  "orig_nbformat": 4,
  "vscode": {
   "interpreter": {
    "hash": "c1925820a906368d408499b819e5c3ff9f54f0d8559346e26763c28c1e1e361d"
   }
  }
 },
 "nbformat": 4,
 "nbformat_minor": 2
}
